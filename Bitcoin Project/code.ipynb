{
 "cells": [
  {
   "cell_type": "markdown",
   "id": "d0a90475",
   "metadata": {},
   "source": [
    "# Project: Exploring the Bitcoin Cryptocurrency Market"
   ]
  },
  {
   "cell_type": "code",
   "execution_count": null,
   "id": "bcd1c0fe",
   "metadata": {},
   "outputs": [],
   "source": [
    "# This project focuses on understanding growth and impact of Bitcoin and other cryptocurrencies. \n",
    "# we will explore the market capitalization of different crypto currencies "
   ]
  },
  {
   "cell_type": "code",
   "execution_count": null,
   "id": "a66f2aa1",
   "metadata": {},
   "outputs": [],
   "source": [
    "#Importing Pandas\n",
    "import pandas as pd\n",
    "\n",
    "#importing matplotlib and setting aesthetics for plotting later\n",
    "import matplotlib.pyplot as plt\n",
    "\n",
    "# By using %matplotlib inline, you can configure Jupyter Notebook to render \n",
    "# Matplotlib plots directly in the output cell below the code cell that generates \n",
    "# them. This can make it easier to visualize and explore data, especially when \n",
    "# working with large datasets or when creating multiple plots in a single notebook.\n",
    "# It is a feature of Jupyter notebooks\n",
    "\n",
    "# % is a mgic ommand in Jupyter notebook\n",
    "%matplotlib inline\n",
    "\n",
    "# By setting the figure format to SVG, the Matplotlib figures generated in the notebook \n",
    "# will be displayed with high resolution and can be scaled without losing quality. This \n",
    "# is particularly useful when creating complex or detailed plots that require a high level\n",
    "# of precision and clarity.\n",
    "%config InlineBackend.figure_format = 'svg'\n",
    "plt.style.use('fivethirtyeight')\n",
    "\n",
    "# Reading datasets/coinmarketcap_06122017.csv into pandas\n",
    "dec6 = pd.read_csv('datasets/coinmarketcap_06122017.csv')\n",
    "\n",
    "#Selecting the 'id and the 'market_cap_usd' columns \n"
   ]
  }
 ],
 "metadata": {
  "kernelspec": {
   "display_name": "Python 3 (ipykernel)",
   "language": "python",
   "name": "python3"
  },
  "language_info": {
   "codemirror_mode": {
    "name": "ipython",
    "version": 3
   },
   "file_extension": ".py",
   "mimetype": "text/x-python",
   "name": "python",
   "nbconvert_exporter": "python",
   "pygments_lexer": "ipython3",
   "version": "3.9.12"
  }
 },
 "nbformat": 4,
 "nbformat_minor": 5
}
